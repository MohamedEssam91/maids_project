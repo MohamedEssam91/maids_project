{
 "cells": [
  {
   "cell_type": "code",
   "execution_count": 1,
   "metadata": {},
   "outputs": [],
   "source": [
    "import requests"
   ]
  },
  {
   "cell_type": "code",
   "execution_count": 2,
   "metadata": {},
   "outputs": [],
   "source": [
    "# Base URL of the API\n",
    "base_url = \"http://127.0.0.1:5000/api/\""
   ]
  },
  {
   "cell_type": "code",
   "execution_count": 3,
   "metadata": {},
   "outputs": [],
   "source": [
    "def get_all_devices():\n",
    "    \"\"\"Retrieve details of all devices.\"\"\"\n",
    "    response = requests.get(base_url + \"devices\")\n",
    "    return response.json() if response.ok else response.text"
   ]
  },
  {
   "cell_type": "code",
   "execution_count": null,
   "metadata": {},
   "outputs": [],
   "source": [
    "\n",
    "def get_device_by_id(device_id):\n",
    "    \"\"\"Retrieve details of a specific device by ID.\"\"\"\n",
    "    response = requests.get(base_url + f\"devices/{device_id}\")\n",
    "    return response.json() if response.ok else response.text"
   ]
  },
  {
   "cell_type": "code",
   "execution_count": null,
   "metadata": {},
   "outputs": [],
   "source": [
    "\n",
    "def add_device(device_data):\n",
    "    \"\"\"Add a new device.\"\"\"\n",
    "    response = requests.post(base_url + \"devices\", json=device_data)\n",
    "    return \"Device added successfully!\" if response.ok else response.text"
   ]
  },
  {
   "cell_type": "code",
   "execution_count": null,
   "metadata": {},
   "outputs": [],
   "source": [
    "\n",
    "def predict_price(device_id):\n",
    "    \"\"\"Predict price for a specific device.\"\"\"\n",
    "    response = requests.post(base_url + f\"predict/{device_id}\")\n",
    "    response_text = response.json()\n",
    "    return response_text['message'] if response.ok else response.text"
   ]
  },
  {
   "cell_type": "code",
   "execution_count": 4,
   "metadata": {},
   "outputs": [
    {
     "name": "stdout",
     "output_type": "stream",
     "text": [
      "All Devices: [{'battery_power': 842, 'blue': 0, 'clock_speed': 2.2, 'dual_sim': 0, 'fc': 1, 'four_g': 0, 'id': 1, 'int_memory': 7, 'm_dep': 0.6, 'mobile_wt': 188, 'n_cores': 2, 'pc': 2, 'price_range': 1, 'px_height': 756, 'px_width': 2549, 'ram': 9, 'sc_h': 7, 'sc_w': 19, 'talk_time': 19, 'three_g': 0, 'touch_screen': 0, 'wifi': 1}, {'battery_power': 842, 'blue': 0, 'clock_speed': 2.2, 'dual_sim': 0, 'fc': 1, 'four_g': 0, 'id': 2, 'int_memory': 7, 'm_dep': 0.6, 'mobile_wt': 188, 'n_cores': 2, 'pc': 2, 'price_range': 1, 'px_height': 756, 'px_width': 2549, 'ram': 9, 'sc_h': 7, 'sc_w': 19, 'talk_time': 19, 'three_g': 0, 'touch_screen': 0, 'wifi': 1}, {'battery_power': 842, 'blue': 0, 'clock_speed': 2.2, 'dual_sim': 0, 'fc': 1, 'four_g': 0, 'id': 3, 'int_memory': 7, 'm_dep': 0.6, 'mobile_wt': 188, 'n_cores': 2, 'pc': 2, 'price_range': 1, 'px_height': 756, 'px_width': 2549, 'ram': 9, 'sc_h': 7, 'sc_w': 19, 'talk_time': 19, 'three_g': 0, 'touch_screen': 0, 'wifi': 1}, {'battery_power': 842, 'blue': 0, 'clock_speed': 2.2, 'dual_sim': 0, 'fc': 1, 'four_g': 0, 'id': 4, 'int_memory': 7, 'm_dep': 0.6, 'mobile_wt': 188, 'n_cores': 2, 'pc': 2, 'price_range': 2, 'px_height': 756, 'px_width': 2549, 'ram': 3000, 'sc_h': 7, 'sc_w': 19, 'talk_time': 19, 'three_g': 0, 'touch_screen': 0, 'wifi': 1}]\n"
     ]
    }
   ],
   "source": [
    "# Retrieve all devices\n",
    "all_devices = get_all_devices()\n",
    "print(\"All Devices:\", all_devices)"
   ]
  },
  {
   "cell_type": "code",
   "execution_count": 5,
   "metadata": {},
   "outputs": [
    {
     "name": "stdout",
     "output_type": "stream",
     "text": [
      "Device Details (ID: 1): {'battery_power': 842, 'blue': 0, 'clock_speed': 2.2, 'dual_sim': 0, 'fc': 1, 'four_g': 0, 'id': 1, 'int_memory': 7, 'm_dep': 0.6, 'mobile_wt': 188, 'n_cores': 2, 'pc': 2, 'price_range': 1, 'px_height': 756, 'px_width': 2549, 'ram': 9, 'sc_h': 7, 'sc_w': 19, 'talk_time': 19, 'three_g': 0, 'touch_screen': 0, 'wifi': 1}\n"
     ]
    }
   ],
   "source": [
    "\n",
    "# Retrieve details of a specific device by ID\n",
    "device_id = 1\n",
    "device_details = get_device_by_id(device_id)\n",
    "print(f\"Device Details (ID: {device_id}):\", device_details)\n"
   ]
  },
  {
   "cell_type": "code",
   "execution_count": 6,
   "metadata": {},
   "outputs": [
    {
     "name": "stdout",
     "output_type": "stream",
     "text": [
      "Device added successfully!\n"
     ]
    }
   ],
   "source": [
    "# Add a new device\n",
    "new_device_data = {\n",
    "    \"battery_power\": 842,\n",
    "    \"blue\": 0,\n",
    "    \"clock_speed\": 2.2,\n",
    "    \"dual_sim\": 0,\n",
    "    \"fc\": 1,\n",
    "    \"four_g\": 0,\n",
    "    \"int_memory\": 7,\n",
    "    \"m_dep\": 0.6,\n",
    "    \"mobile_wt\": 188,\n",
    "    \"n_cores\": 2,\n",
    "    \"pc\": 2,\n",
    "    \"px_height\": 756,\n",
    "    \"px_width\": 2549,\n",
    "    \"ram\": 3000,\n",
    "    \"sc_h\": 7,\n",
    "    \"sc_w\": 19,\n",
    "    \"talk_time\": 19,\n",
    "    \"three_g\": 0,\n",
    "    \"touch_screen\": 0,\n",
    "    \"wifi\": 1,\n",
    "    \"price_range\": 3\n",
    "}\n",
    "add_device(new_device_data)"
   ]
  },
  {
   "cell_type": "code",
   "execution_count": 7,
   "metadata": {},
   "outputs": [
    {
     "name": "stdout",
     "output_type": "stream",
     "text": [
      "Price predicted and updated successfully and the new price is 2\n"
     ]
    }
   ],
   "source": [
    "# Predict price for a specific device\n",
    "predict_price(4)"
   ]
  }
 ],
 "metadata": {
  "kernelspec": {
   "display_name": "base",
   "language": "python",
   "name": "python3"
  },
  "language_info": {
   "codemirror_mode": {
    "name": "ipython",
    "version": 3
   },
   "file_extension": ".py",
   "mimetype": "text/x-python",
   "name": "python",
   "nbconvert_exporter": "python",
   "pygments_lexer": "ipython3",
   "version": "3.11.7"
  }
 },
 "nbformat": 4,
 "nbformat_minor": 2
}
